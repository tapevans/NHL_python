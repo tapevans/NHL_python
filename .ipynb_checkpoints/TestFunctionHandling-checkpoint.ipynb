{
 "cells": [
  {
   "cell_type": "code",
   "execution_count": 9,
   "id": "bbf41b49",
   "metadata": {},
   "outputs": [
    {
     "name": "stdout",
     "output_type": "stream",
     "text": [
      "1\n",
      "\n",
      "False\n",
      "\n",
      "1\n",
      "Avalanche\n",
      "False\n",
      "\n",
      "1\n",
      "Avalanche\n",
      "1\n",
      "\n"
     ]
    }
   ],
   "source": [
    "import numpy as np\n",
    "from classes import *\n",
    "import test_Edit_Series_header\n",
    "\n",
    "# Create Object\n",
    "series1 = Series(1)\n",
    "\n",
    "print(series1.number)\n",
    "print(series1.HomeTeam)\n",
    "print(series1.isComplete)\n",
    "print()\n",
    "\n",
    "# Series 1\n",
    "series1.HomeTeam = 'Avalanche'\n",
    "series1.AwayTeam = 'Predators'\n",
    "series1.HomePreviousSeries = 1\n",
    "series1.AwayPreviousSeries = 2\n",
    "\n",
    "print(series1.number)\n",
    "print(series1.HomeTeam)\n",
    "print(series1.isComplete)\n",
    "print()\n",
    "\n",
    "# Test Function\n",
    "test_Edit_Series_header.test_Edit_Series(series1)\n",
    "\n",
    "print(series1.number)\n",
    "print(series1.HomeTeam)\n",
    "print(series1.isComplete)\n",
    "print()"
   ]
  },
  {
   "cell_type": "code",
   "execution_count": null,
   "id": "fa3171e4",
   "metadata": {},
   "outputs": [],
   "source": []
  }
 ],
 "metadata": {
  "kernelspec": {
   "display_name": "Python 3 (ipykernel)",
   "language": "python",
   "name": "python3"
  },
  "language_info": {
   "codemirror_mode": {
    "name": "ipython",
    "version": 3
   },
   "file_extension": ".py",
   "mimetype": "text/x-python",
   "name": "python",
   "nbconvert_exporter": "python",
   "pygments_lexer": "ipython3",
   "version": "3.10.6"
  }
 },
 "nbformat": 4,
 "nbformat_minor": 5
}
