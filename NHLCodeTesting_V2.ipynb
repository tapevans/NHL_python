{
 "cells": [
  {
   "cell_type": "code",
   "execution_count": 8,
   "metadata": {
    "id": "fRsNAvsp7-Sj"
   },
   "outputs": [],
   "source": [
    "import numpy as np\n",
    "from classes import *"
   ]
  },
  {
   "cell_type": "markdown",
   "metadata": {
    "id": "uPA11UCDd5C4"
   },
   "source": [
    "# Overall Notes\n",
    "* Have a variable that is our final accepting date for new brackets, then use this to generate the bracket data only once and then never go through that code again. Would this be faster than reading a text or xcel file?\n",
    "* Have the data be generated once a day and not have to regenerate. Updating of new data is trigger by the first user who accesses the page every day\n",
    "\n",
    "My thinking is that the data for each page is pregenerated daily?"
   ]
  },
  {
   "cell_type": "markdown",
   "metadata": {
    "id": "FuecPfg-IluU"
   },
   "source": [
    "# Define Bracket Class\n",
    "* Name\n",
    "* Team for each series\n",
    "* Points Aquired\n",
    "* Points Possible\n",
    "* Total Points Possible\n"
   ]
  },
  {
   "cell_type": "code",
   "execution_count": 2,
   "metadata": {
    "id": "Y67vadT7IPLQ"
   },
   "outputs": [],
   "source": [
    "class Bracket:\n",
    "  points_aquired = 0\n",
    "  points_potential = 0\n",
    "  points_totalPossible = 380  \n",
    "  def __init__(self, name, winners):\n",
    "    self.name = name\n",
    "    self.seriesWinners = winners\n",
    "  def calcPoints(self,SERIES,TEAMS):\n",
    "      pass"
   ]
  },
  {
   "cell_type": "markdown",
   "metadata": {
    "id": "hC2POV9dcXnF"
   },
   "source": [
    "# Define Series Class\n",
    "Each series has \n",
    "* Number\n",
    "* Home Team\n",
    "* Away Team\n",
    "* Score (I had this as its own .m file)\n",
    "* Home Wins\n",
    "* Away Wins\n",
    "* SeriesDep (Does this series depend on a series from a previous round)\n",
    "* isMatchupSet\n",
    "* 7 Games\n",
    "* Dates for each Game\n",
    "* isComplete\n",
    "* Winner\n",
    "* HomePrevSeries (This was used to grey out teams that lost)\n",
    "* AwayPrevSeries (This was used to grey out teams that lost)\n",
    "\n",
    "In the matlab code, I had another variable called round complete. This variable saved if a round was complete or not. This in turn allowed parts of the code to be skipped so less calculations needed to be preformed. I can probably do this differently.\n",
    "\n",
    "**Should there be a Round Class?**\n"
   ]
  },
  {
   "cell_type": "code",
   "execution_count": 3,
   "metadata": {
    "id": "s45C0PtzybQI"
   },
   "outputs": [],
   "source": [
    "class Series:\n",
    "  number = 0\n",
    "  HomeTeam = ''\n",
    "  AwayTeam = ''\n",
    "  Score = np.full((2,7),np.nan)\n",
    "  HomeWins = 0\n",
    "  AwayWins = 0\n",
    "  SeriesDep = np.zeros((1,2))\n",
    "  isMatchupSet = False\n",
    "  isComplete = False\n",
    "  Winner = ''\n",
    "  HomePreviousSeries = 0\n",
    "  AwayPreviousSeries = 0\n",
    "\n",
    "  def __init__(self,number):\n",
    "    self.number = number\n",
    "    \n",
    "  def updateScore(self,gameScore):\n",
    "    self.Score = gameScore"
   ]
  },
  {
   "cell_type": "markdown",
   "metadata": {
    "id": "EoMur7oZckrH"
   },
   "source": [
    " # Define Team Class\n",
    "\n",
    " Each Team has\n",
    " * Name\n",
    " * BackgroundColor\n",
    " * TextColor\n",
    " * DivisionRank\n",
    " * RegularSeasonRank\n",
    " * isEliminated"
   ]
  },
  {
   "cell_type": "code",
   "execution_count": 4,
   "metadata": {
    "id": "RfzSTVUjyckV"
   },
   "outputs": [],
   "source": [
    "class Team:\n",
    "  isEliminated = False\n",
    "  #BackgroundColor = [0,0,0]\n",
    "  #TextColor = [0,0,0]\n",
    "  def __init__(self,name,DivisionRank,RegularSeasonRank):\n",
    "    self.name = name\n",
    "    self.DivisionRank = DivisionRank\n",
    "    self.RegularSeasonRank = RegularSeasonRank\n",
    "\n",
    "  def elimFunc(self):\n",
    "    self.isEliminated = True\n"
   ]
  },
  {
   "cell_type": "markdown",
   "metadata": {
    "id": "aVRSe3_TolRN"
   },
   "source": [
    "# Code Logic\n",
    "Initialize\n",
    "* Initialize/Save Bracket choices\n",
    "* Initialize Series Data\n",
    "* Initialize Team Data\n",
    "\n",
    "Update Functions:\n",
    "* Update Series from scores (How to create source for scores is still TBD)\n",
    "* Update Master Bracket\n",
    "* Update Individual Scores\n",
    "* Update Graphics(Don't know how exactly we'll do this)\n",
    "\n",
    "Update should only occur once per day(or once after a game is completed). People who access the site shouldn't have to wait for the code to run every time the load a page. Page data should be at minimum updated early morning the day after a game."
   ]
  },
  {
   "cell_type": "code",
   "execution_count": 5,
   "metadata": {
    "id": "1IB5ifQryd04"
   },
   "outputs": [],
   "source": [
    "## Test Bracket\n",
    "#TylerBracket = Bracket('Tyler',['Avalanche','Wild','Flames','Oilers','Panthers','Maple Leafs','Hurricanes','Penguins','Avalanche','Flames','Panthers','Hurricanes','Avalanche','Hurricanes','Hurricanes'])\n",
    "#print(TylerBracket.name)\n",
    "#print(TylerBracket.seriesWinners)\n",
    "#print(TylerBracket.seriesWinners[1])\n",
    "\n",
    "## Test Series\n",
    "#Series1 = Series(1)\n",
    "#print(Series1.number)\n",
    "#print(Series1.HomeTeam)\n",
    "\n",
    "## Test Team\n",
    "# Hurricanes = Team('Hurricanes',1,3)\n",
    "# print(Hurricanes.name)\n",
    "# print(Hurricanes.isEliminated)\n",
    "# Hurricanes.elimFunc()\n",
    "# print(Hurricanes.isEliminated)\n"
   ]
  },
  {
   "cell_type": "code",
   "execution_count": 6,
   "metadata": {
    "colab": {
     "base_uri": "https://localhost:8080/"
    },
    "id": "9WwoKKpZG9mU",
    "outputId": "5927941f-dd05-4b85-fd20-75d23313606f"
   },
   "outputs": [
    {
     "name": "stdout",
     "output_type": "stream",
     "text": [
      "Tyler\n",
      "['Avalanche', 'Wild', 'Flames', 'Oilers', 'Panthers', 'Maple Leafs', 'Hurricanes', 'Penguins', 'Avalanche', 'Flames', 'Panthers', 'Hurricanes', 'Avalanche', 'Hurricanes', 'Hurricanes']\n",
      "Hurricanes\n"
     ]
    }
   ],
   "source": [
    "## Initialize brackets\n",
    "# This would be read in by Corey's code (frontend)\n",
    "brackets = []\n",
    "#                                   ['Series1','Series2','Series3','Series4','Series5','Series6'   ,'Series7'   ,'Series8' ,'Series9'  ,'Series10','Series11' ,'Series12'  ,'Series13' ,'Series14'   ,'Series15'  ]\n",
    "brackets.append( Bracket('Lydia'   ,['Avalanche','Blues','Flames','Oilers','Panthers','Maple Leafs','Bruins'    ,'Penguins','Avalanche','Flames','Maple Leafs','Bruins'    ,'Avalanche','Maple Leafs','Avalanche'  ]) )\n",
    "brackets.append( Bracket('Tyler'   ,['Avalanche','Wild' ,'Flames','Oilers','Panthers','Maple Leafs','Hurricanes','Penguins','Avalanche','Flames','Panthers'   ,'Hurricanes','Avalanche','Hurricanes' ,'Hurricanes' ]) )\n",
    "brackets.append( Bracket('Rob'     ,['Avalanche','Blues','Flames','Oilers','Panthers','Lightning'  ,'Hurricanes','Penguins','Avalanche','Flames','Panthers'   ,'Hurricanes','Avalanche','Panthers'   ,'Avalanche'  ]) )\n",
    "brackets.append( Bracket('Allie'   ,['Avalanche','Wild' ,'Flames','Oilers','Capitals','Maple Leafs','Hurricanes','Penguins','Avalanche','Flames','Maple Leafs','Hurricanes','Avalanche','Maple Leafs','Maple Leafs']) )\n",
    "brackets.append( Bracket('Xander'  ,['Avalanche','Blues','Flames','Kings' ,'Capitals','Lightning'  ,'Hurricanes','Penguins','Avalanche','Kings' ,'Capitals'   ,'Penguins'  ,'Avalanche','Penguins'   ,'Penguins'   ]) )\n",
    "brackets.append( Bracket('Caroline',['Avalanche','Blues','Flames','Kings' ,'Capitals','Maple Leafs','Hurricanes','Rangers' ,'Avalanche','Kings' ,'Maple Leafs','Hurricanes','Avalanche','Hurricanes' ,'Avalanche'  ]) )\n",
    "brackets.append( Bracket('Jordan'  ,['Avalanche','Wild' ,'Flames','Kings' ,'Panthers','Lightning'  ,'Hurricanes','Rangers' ,'Wild'     ,'Flames','Lightning'  ,'Hurricanes','Wild'     ,'Hurricanes' ,'Wild'       ]) )\n",
    "brackets.append( Bracket('Daniel'  ,['Avalanche','Wild' ,'Stars' ,'Kings' ,'Panthers','Maple Leafs','Hurricanes','Penguins','Wild'     ,'Kings' ,'Panthers'   ,'Penguins'  ,'Wild'     ,'Panthers'   ,'Wild'       ]) )\n",
    "brackets.append( Bracket('Isabella',['Avalanche','Wild' ,'Flames','Kings' ,'Capitals','Maple Leafs','Hurricanes','Rangers' ,'Avalanche','Flames','Maple Leafs','Hurricanes','Avalanche','Hurricanes' ,'Avalanche'  ]) )\n",
    "brackets.append( Bracket('Sarah'   ,['Avalanche','Blues','Flames','Oilers','Panthers','Lightning'  ,'Hurricanes','Rangers' ,'Avalanche','Flames','Panthers'   ,'Hurricanes','Avalanche','Panthers'   ,'Avalanche'  ]) )\n",
    "brackets.append( Bracket('Gus'     ,['Avalanche','Blues','Flames','Oilers','Panthers','Lightning'  ,'Bruins'    ,'Rangers' ,'Avalanche','Flames','Panthers'   ,'Rangers'   ,'Avalanche','Panthers'   ,'Avalanche'  ]) )\n",
    "brackets.append( Bracket('Allison' ,['Avalanche','Wild' ,'Stars' ,'Oilers','Capitals','Maple Leafs','Bruins'    ,'Penguins','Avalanche','Stars' ,'Capitals'   ,'Bruins'    ,'Avalanche','Capitals'   ,'Avalanche'  ]) )\n",
    "brackets.append( Bracket('Megan'   ,['Avalanche','Blues','Stars' ,'Oilers','Capitals','Maple Leafs','Hurricanes','Penguins','Avalanche','Oilers','Maple Leafs','Penguins'  ,'Avalanche','Penguins'   ,'Avalanche'  ]) )\n",
    "brackets.append( Bracket('Corey'   ,['Avalanche','Wild' ,'Stars' ,'Kings' ,'Capitals','Lightning'  ,'Hurricanes','Rangers' ,'Avalanche','Stars' ,'Lightning'  ,'Hurricanes','Stars'    ,'Lightning'  ,'Lightning'  ]) )\n",
    "brackets.append( Bracket('Felix'   ,['Avalanche','Wild' ,'Stars' ,'Oilers','Capitals','Maple Leafs','Hurricanes','Penguins','Avalanche','Oilers','Maple Leafs','Penguins'  ,'Oilers'   ,'Penguins'   ,'Oilers'     ]) )\n",
    "brackets.append( Bracket('Jackson' ,['Avalanche','Wild' ,'Flames','Oilers','Panthers','Maple Leafs','Hurricanes','Rangers' ,'Avalanche','Flames','Panthers'   ,'Hurricanes','Avalanche','Panthers'   ,'Avalanche'  ]) )\n",
    "brackets.append( Bracket('Mike'    ,['Avalanche','Wild' ,'Flames','Oilers','Panthers','Lightning'  ,'Hurricanes','Rangers' ,'Wild'     ,'Flames','Panthers'   ,'Hurricanes','Flames'   ,'Panthers'   ,'Panthers'   ]) )\n",
    "\n",
    "print(brackets[1].name)\n",
    "print(brackets[1].seriesWinners)\n",
    "print(brackets[1].seriesWinners[14])"
   ]
  },
  {
   "cell_type": "code",
   "execution_count": 7,
   "metadata": {
    "colab": {
     "base_uri": "https://localhost:8080/"
    },
    "id": "W6PTel1CQ7qs",
    "outputId": "a25321bd-1940-46e7-f6ee-5fb5a1b7f6b5"
   },
   "outputs": [
    {
     "name": "stdout",
     "output_type": "stream",
     "text": [
      "7\n",
      "Hurricanes\n"
     ]
    }
   ],
   "source": [
    "## Initialize Series Data\n",
    "series = []\n",
    "\n",
    "for i in range(15):\n",
    "  #print(i)\n",
    "  series.append( Series(i+1) )\n",
    "\n",
    "# Set the first round\n",
    "# Series 1\n",
    "i = 0\n",
    "series[i].HomeTeam = 'Avalanche'\n",
    "series[i].AwayTeam = 'Predators'\n",
    "series[i].HomePreviousSeries = 1\n",
    "series[i].AwayPreviousSeries = 2\n",
    "series[i].isMatchupSet = True\n",
    "\n",
    "# Series 2\n",
    "i = i+1\n",
    "series[i].HomeTeam = 'Wild'\n",
    "series[i].AwayTeam = 'Blues'\n",
    "series[i].HomePreviousSeries = 3\n",
    "series[i].AwayPreviousSeries = 4\n",
    "series[i].isMatchupSet = True\n",
    "\n",
    "# Series 3\n",
    "i = i+1\n",
    "series[i].HomeTeam = 'Flames'\n",
    "series[i].AwayTeam = 'Stars'\n",
    "series[i].HomePreviousSeries = 5\n",
    "series[i].AwayPreviousSeries = 6\n",
    "series[i].isMatchupSet = True\n",
    "\n",
    "# Series 4\n",
    "i = i+1\n",
    "series[i].HomeTeam = 'Oilers'\n",
    "series[i].AwayTeam = 'Kings'\n",
    "series[i].HomePreviousSeries = 7\n",
    "series[i].AwayPreviousSeries = 8\n",
    "series[i].isMatchupSet = True\n",
    "\n",
    "# Series 5\n",
    "i = i+1\n",
    "series[i].HomeTeam = 'Panthers'\n",
    "series[i].AwayTeam = 'Capitals'\n",
    "series[i].HomePreviousSeries = 1\n",
    "series[i].AwayPreviousSeries = 2\n",
    "series[i].isMatchupSet = True\n",
    "\n",
    "# Series 6\n",
    "i = i+1\n",
    "series[i].HomeTeam = 'Maple Leafs'\n",
    "series[i].AwayTeam = 'Lightning'\n",
    "series[i].HomePreviousSeries = 1\n",
    "series[i].AwayPreviousSeries = 2\n",
    "series[i].isMatchupSet = True\n",
    "\n",
    "# Series 7\n",
    "i = i+1\n",
    "series[i].HomeTeam = 'Hurricanes'\n",
    "series[i].AwayTeam = 'Bruins'\n",
    "series[i].HomePreviousSeries = 1\n",
    "series[i].AwayPreviousSeries = 2\n",
    "series[i].isMatchupSet = True\n",
    "\n",
    "# Series 8\n",
    "i = i+1\n",
    "series[i].HomeTeam = 'Rangers'\n",
    "series[i].AwayTeam = 'Penguins'\n",
    "series[i].HomePreviousSeries = 1\n",
    "series[i].AwayPreviousSeries = 2\n",
    "series[i].isMatchupSet = True\n",
    "\n",
    "######################################\n",
    "# Set Series 9-15 dependencies\n",
    "# Series 9\n",
    "i = i+1\n",
    "series[i].dependencies = np.array([[1,2]])\n",
    "\n",
    "# Series 10\n",
    "i = i+1\n",
    "series[i].dependencies = np.array([[3,4]])\n",
    "\n",
    "# Series 11\n",
    "i = i+1\n",
    "series[i].dependencies = np.array([[5,6]])\n",
    "\n",
    "# Series 12\n",
    "i = i+1\n",
    "series[i].dependencies = np.array([[7,8]])\n",
    "\n",
    "# Series 13\n",
    "i = i+1\n",
    "series[i].dependencies = np.array([[9,10]])\n",
    "\n",
    "# Series 14\n",
    "i = i+1\n",
    "series[i].dependencies = np.array([[11,12]])\n",
    "\n",
    "# Series 15\n",
    "i = i+1\n",
    "series[i].dependencies = np.array([[13,14]])\n",
    "\n",
    "######################################\n",
    "print(series[6].number)\n",
    "print(series[6].HomeTeam)"
   ]
  },
  {
   "cell_type": "code",
   "execution_count": 8,
   "metadata": {
    "colab": {
     "base_uri": "https://localhost:8080/"
    },
    "id": "JvW8pEq8Q_IU",
    "outputId": "2a77c138-0d52-46fb-f7e2-e3c5d20cb727"
   },
   "outputs": [
    {
     "name": "stdout",
     "output_type": "stream",
     "text": [
      "False\n",
      "False\n",
      "False\n",
      "True\n"
     ]
    }
   ],
   "source": [
    "## Initialize Team Data\n",
    "# I think this will have to be hard-coded\n",
    "teams = []\n",
    "\n",
    "teams.append(Team('Avalanche'  ,1,2 ))\n",
    "teams.append(Team('Predators'  ,5,16))\n",
    "teams.append(Team('Wild'       ,2,5 ))\n",
    "teams.append(Team('Blues'      ,4,9 ))\n",
    "teams.append(Team('Flames'     ,1,6 ))\n",
    "teams.append(Team('Stars'      ,4,15))\n",
    "teams.append(Team('Oilers'     ,2,11))\n",
    "teams.append(Team('Kings'      ,3,14))\n",
    "teams.append(Team('Panthers'   ,1,1 ))\n",
    "teams.append(Team('Capitals'   ,4,13))\n",
    "teams.append(Team('Maple Leafs',2,4 ))\n",
    "teams.append(Team('Lightning'  ,4,8 ))\n",
    "teams.append(Team('Hurricanes' ,1,3 ))\n",
    "teams.append(Team('Bruins'     ,4,10))\n",
    "teams.append(Team('Rangers'    ,2,7 ))\n",
    "teams.append(Team('Penguins'   ,3,12))\n",
    "\n",
    "print(teams[0].isEliminated)\n",
    "print(teams[1].isEliminated)\n",
    "teams[1].elimFunc()\n",
    "print(teams[0].isEliminated)\n",
    "print(teams[1].isEliminated)"
   ]
  },
  {
   "cell_type": "markdown",
   "metadata": {
    "id": "ljW4BC5SkDz7"
   },
   "source": [
    "Input the scores for the games"
   ]
  },
  {
   "cell_type": "code",
   "execution_count": 9,
   "metadata": {
    "colab": {
     "base_uri": "https://localhost:8080/"
    },
    "id": "vJ_ndA3sBRA0",
    "outputId": "16256f5d-9aa6-47a8-c528-00fc47b8bba0"
   },
   "outputs": [
    {
     "name": "stdout",
     "output_type": "stream",
     "text": [
      "[[[0. 0. 0. 0. 0. 0. 0.]\n",
      "  [0. 0. 0. 0. 0. 0. 0.]]\n",
      "\n",
      " [[0. 0. 0. 0. 0. 0. 0.]\n",
      "  [0. 0. 0. 0. 0. 0. 0.]]\n",
      "\n",
      " [[0. 0. 0. 0. 0. 0. 0.]\n",
      "  [0. 0. 0. 0. 0. 0. 0.]]\n",
      "\n",
      " [[0. 0. 0. 0. 0. 0. 0.]\n",
      "  [0. 0. 0. 0. 0. 0. 0.]]\n",
      "\n",
      " [[0. 0. 0. 0. 0. 0. 0.]\n",
      "  [0. 0. 0. 0. 0. 0. 0.]]\n",
      "\n",
      " [[0. 0. 0. 0. 0. 0. 0.]\n",
      "  [0. 0. 0. 0. 0. 0. 0.]]\n",
      "\n",
      " [[0. 0. 0. 0. 0. 0. 0.]\n",
      "  [0. 0. 0. 0. 0. 0. 0.]]\n",
      "\n",
      " [[0. 0. 0. 0. 0. 0. 0.]\n",
      "  [0. 0. 0. 0. 0. 0. 0.]]\n",
      "\n",
      " [[0. 0. 0. 0. 0. 0. 0.]\n",
      "  [0. 0. 0. 0. 0. 0. 0.]]\n",
      "\n",
      " [[0. 0. 0. 0. 0. 0. 0.]\n",
      "  [0. 0. 0. 0. 0. 0. 0.]]\n",
      "\n",
      " [[0. 0. 0. 0. 0. 0. 0.]\n",
      "  [0. 0. 0. 0. 0. 0. 0.]]\n",
      "\n",
      " [[0. 0. 0. 0. 0. 0. 0.]\n",
      "  [0. 0. 0. 0. 0. 0. 0.]]\n",
      "\n",
      " [[0. 0. 0. 0. 0. 0. 0.]\n",
      "  [0. 0. 0. 0. 0. 0. 0.]]\n",
      "\n",
      " [[0. 0. 0. 0. 0. 0. 0.]\n",
      "  [0. 0. 0. 0. 0. 0. 0.]]\n",
      "\n",
      " [[0. 0. 0. 0. 0. 0. 0.]\n",
      "  [0. 0. 0. 0. 0. 0. 0.]]]\n",
      "\n",
      "[[ 2.  1.  3.  3. nan nan nan]\n",
      " [ 7.  2.  7.  5. nan nan nan]]\n",
      "(2, 7)\n",
      "(15, 2, 7)\n"
     ]
    }
   ],
   "source": [
    "# scores_all = np.ndarray(shape=(2,7,15), dtype=int)\n",
    "scores_all = np.zeros((15,2,7),order='F')\n",
    "print(scores_all)\n",
    "scores_all.fill(0)\n",
    "# print(scores_all)\n",
    "\n",
    "# Series 1 Avs/Preds\n",
    "# scores_all[:,:,0]\n",
    "test = np.array([[2, 1, 3, 3, np.nan, np.nan, np.nan], #Preds\n",
    "                     [7, 2, 7, 5, np.nan, np.nan, np.nan]])   # Avs\n",
    "print('')\n",
    "print(test)\n",
    "print(test.shape)\n",
    "print(scores_all.shape)"
   ]
  },
  {
   "cell_type": "code",
   "execution_count": 10,
   "metadata": {
    "colab": {
     "base_uri": "https://localhost:8080/"
    },
    "id": "1UyY_prTkCo7",
    "outputId": "dc28aeca-6cd0-46a4-9da6-13c297f7fed0"
   },
   "outputs": [
    {
     "name": "stdout",
     "output_type": "stream",
     "text": [
      "[[ 2.  1.  3.  3. nan nan nan]\n",
      " [ 7.  2.  7.  5. nan nan nan]]\n",
      "\n",
      "[[ 4.  2.  1.  5.  5.  5. nan]\n",
      " [ 0.  6.  5.  2.  2.  1. nan]]\n",
      "\n",
      "[[0. 2. 4. 1. 1. 4. 2.]\n",
      " [1. 0. 2. 4. 3. 2. 3.]]\n",
      "\n",
      "[[4. 0. 2. 4. 5. 2. 0.]\n",
      " [3. 6. 8. 0. 4. 4. 2.]]\n",
      "\n",
      "[[ 4.  1.  6.  2.  3.  3. nan]\n",
      " [ 2.  5.  1.  3.  5.  4. nan]]\n",
      "\n",
      "[[0. 5. 2. 7. 3. 4. 2.]\n",
      " [5. 3. 5. 3. 4. 3. 1.]]\n",
      "\n",
      "[[1. 2. 4. 5. 1. 5. 2.]\n",
      " [5. 5. 2. 2. 5. 2. 3.]]\n",
      "\n",
      "[[4. 2. 7. 7. 3. 3. 3.]\n",
      " [3. 5. 4. 2. 5. 5. 4.]]\n",
      "\n",
      "[[nan nan nan nan nan nan nan]\n",
      " [nan nan nan nan nan nan nan]]\n",
      "\n",
      "[[nan nan nan nan nan nan nan]\n",
      " [nan nan nan nan nan nan nan]]\n",
      "\n",
      "[[nan nan nan nan nan nan nan]\n",
      " [nan nan nan nan nan nan nan]]\n",
      "\n",
      "[[nan nan nan nan nan nan nan]\n",
      " [nan nan nan nan nan nan nan]]\n",
      "\n",
      "[[nan nan nan nan nan nan nan]\n",
      " [nan nan nan nan nan nan nan]]\n",
      "\n",
      "[[nan nan nan nan nan nan nan]\n",
      " [nan nan nan nan nan nan nan]]\n",
      "\n",
      "[[nan nan nan nan nan nan nan]\n",
      " [nan nan nan nan nan nan nan]]\n",
      "\n"
     ]
    }
   ],
   "source": [
    "# Series 1 Avs/Preds\n",
    "scores_all[0,:,:] = np.array([\n",
    "  [2, 1, 3, 3, np.nan, np.nan, np.nan],  #Preds\n",
    "  [7, 2, 7, 5, np.nan, np.nan, np.nan]]) # Avs               \n",
    "\n",
    "# Series 2 Wild/Blues\n",
    "scores_all[1,:,:] = np.array([\n",
    "    [4, 2, 1, 5, 5, 5, np.nan],  # Blues\n",
    "    [0, 6, 5, 2, 2, 1, np.nan]]) # Wild\n",
    "\n",
    "# Series 3 Flames/Stars\n",
    "scores_all[2,:,:] = np.array([\n",
    "  [0, 2, 4, 1, 1, 4, 2],    # Stars\n",
    "  [1, 0, 2, 4, 3, 2, 3]])   # Flames\n",
    "    \n",
    "\n",
    "# Series 4 Oilers/Kings\n",
    "scores_all[3,:,:] = np.array([\n",
    "  [4, 0, 2, 4, 5, 2, 0],  # Kings\n",
    "  [3, 6, 8, 0, 4, 4, 2]]) # Oilers\n",
    "    \n",
    "\n",
    "# Series 5 Panthers/Caps\n",
    "scores_all[4,:,:] = np.array([\n",
    "  [4, 1, 6, 2, 3, 3, np.nan],   # Caps\n",
    "  [2, 5, 1, 3, 5, 4, np.nan]]) # Panthers\n",
    "    \n",
    "\n",
    "# Series 6 Leafs/Lightning\n",
    "scores_all[5,:,:] = np.array([\n",
    "  [0, 5, 2, 7, 3, 4, 2],  # Lightning\n",
    "  [5, 3, 5, 3, 4, 3, 1]]) # Leafs\n",
    "    \n",
    "\n",
    "# Series 7 Canes/Bruins\n",
    "scores_all[6,:,:] = np.array([\n",
    "  [1, 2, 4, 5, 1, 5, 2],  # Bruins\n",
    "  [5, 5, 2, 2, 5, 2, 3]]) # Canes\n",
    "    \n",
    "\n",
    "# Series 8 Rangers/Penguins\n",
    "scores_all[7,:,:] = np.array([\n",
    "  [4, 2, 7, 7, 3, 3, 3],  # Penguins\n",
    "  [3, 5, 4, 2, 5, 5, 4]]) # Rangers\n",
    "    \n",
    "\n",
    "# Series 9 Avs/Blues\n",
    "scores_all[8,:,:] = np.array([\n",
    "  [2, 4, 2, 3, 5, 2, np.nan],  # Blues\n",
    "  [3, 1, 5, 6, 4, 3, np.nan]]) # Avs\n",
    "    \n",
    "\n",
    "# Series 10 Flames/Oilers\n",
    "scores_all[9,:,:] = np.array([\n",
    "  [6, 5, 4, 5, 5, np.nan, np.nan],  # Oilers\n",
    "  [9, 3, 1, 3, 4, np.nan, np.nan]]) # Flames\n",
    "    \n",
    "\n",
    "# Series 11 Panthers/Lightning\n",
    "scores_all[10,:,:] = np.array([\n",
    "  [4, 2, 5, 2, np.nan, np.nan, np.nan],  # Lightning\n",
    "  [1, 1, 1, 0, np.nan, np.nan, np.nan]]) # Panthers\n",
    "    \n",
    "\n",
    "# Series 12 Hurricanes/Rangers\n",
    "scores_all[11,:,:] = np.array([\n",
    "  [1, 0, 3, 4, 1, 5, 6],  # Rangers\n",
    "  [2, 2, 1, 1, 3, 2, 2]]) # Hurricanes\n",
    "    \n",
    "\n",
    "# Series 13 Avs/Oilers\n",
    "scores_all[12,:,:] = np.array([\n",
    "  [6, 0, 2, 5, np.nan, np.nan, np.nan],  # Oilers\n",
    "  [8, 4, 4, 6, np.nan, np.nan, np.nan]]) # Avs\n",
    "    \n",
    "\n",
    "# Series 14 Rangers/Lightning\n",
    "scores_all[13,:,:] = np.array([\n",
    "  [2, 2, 3, 4, 3, 2, np.nan],  # Lightning\n",
    "  [6, 3, 2, 1, 1, 1, np.nan]]) # Rangers\n",
    "    \n",
    "\n",
    "# Series 15 Avs/Lightning\n",
    "scores_all[14,:,:] = np.array([\n",
    "  [3, 0, 6, 2, 3, 1, np.nan],  # Lightning\n",
    "  [4, 7, 2, 3, 2, 2, np.nan]]) # Avs\n",
    "    \n",
    "# print(scores_all)\n",
    "\n",
    "for i in range(8):\n",
    "  # print(i)\n",
    "  series[i].updateScore(scores_all[i,:,:])\n",
    "  # print(series[i].Score)\n",
    "  # print('')\n",
    "\n",
    "for i in range(15):\n",
    "  print(series[i].Score)\n",
    "  print('')"
   ]
  },
  {
   "cell_type": "markdown",
   "metadata": {
    "id": "qCnxRFmbVeaq"
   },
   "source": [
    "Now is the updateMasterBracket, which updates all the series and teams data"
   ]
  }
 ],
 "metadata": {
  "colab": {
   "collapsed_sections": [],
   "provenance": []
  },
  "kernelspec": {
   "display_name": "Python 3",
   "language": "python",
   "name": "python3"
  },
  "language_info": {
   "codemirror_mode": {
    "name": "ipython",
    "version": 3
   },
   "file_extension": ".py",
   "mimetype": "text/x-python",
   "name": "python",
   "nbconvert_exporter": "python",
   "pygments_lexer": "ipython3",
   "version": "3.6.5"
  }
 },
 "nbformat": 4,
 "nbformat_minor": 1
}
