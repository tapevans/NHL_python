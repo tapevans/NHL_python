{
 "cells": [
  {
   "cell_type": "code",
   "execution_count": 1,
   "id": "81c1e515",
   "metadata": {},
   "outputs": [
    {
     "name": "stdout",
     "output_type": "stream",
     "text": [
      "Round 1:\n",
      "0\n",
      "1\n",
      "2\n",
      "3\n",
      "4\n",
      "5\n",
      "6\n",
      "7\n",
      "Round 2:\n",
      "8\n",
      "9\n",
      "10\n",
      "11\n",
      "Round 3:\n",
      "12\n",
      "13\n",
      "Round 4:\n",
      "14\n"
     ]
    }
   ],
   "source": [
    "import numpy as np\n",
    "round1 = 8\n",
    "round2 = 12\n",
    "round3 = 14\n",
    "round4 = 15\n",
    "#arg = np.arange(first,last,1)\n",
    "#print(arg)\n",
    "print('Round 1:')\n",
    "for i in np.arange(0,round1,1):\n",
    "    print(i)\n",
    "\n",
    "print('Round 2:')\n",
    "for i in np.arange(round1,round2,1):\n",
    "    print(i)\n",
    "    \n",
    "print('Round 3:')\n",
    "for i in np.arange(round2,round3,1):\n",
    "    print(i)\n",
    "    \n",
    "print('Round 4:')\n",
    "for i in np.arange(round3,round4,1):\n",
    "    print(i)"
   ]
  },
  {
   "cell_type": "code",
   "execution_count": 2,
   "id": "c532fcd1",
   "metadata": {},
   "outputs": [],
   "source": [
    "# Run Initialization Code\n",
    "from initializeTeams    import teams\n",
    "from initializeSeries   import series\n",
    "from initializeBrackets import brackets\n",
    "\n",
    "# print(teams[1].name)\n",
    "# print(series[0].Score)\n",
    "# print(brackets[0].name)\n",
    "\n",
    "# print(len(teams))\n",
    "# print(len(series))\n",
    "# print(len(brackets))\n",
    "\n",
    "numTeams    = len(teams)\n",
    "numSeries   = len(series)\n",
    "numBrackets = len(brackets)"
   ]
  },
  {
   "cell_type": "code",
   "execution_count": 3,
   "id": "9368af11",
   "metadata": {},
   "outputs": [],
   "source": [
    "# Import the scores of the series\n",
    "from scores import scores_all\n",
    "\n",
    "# print(scores_all[1,:,:])"
   ]
  },
  {
   "cell_type": "code",
   "execution_count": 4,
   "id": "67dc54da",
   "metadata": {},
   "outputs": [],
   "source": [
    "from updateSeries import updateSeries as updateSeries\n",
    "updateSeries(series,teams,scores_all)"
   ]
  },
  {
   "cell_type": "code",
   "execution_count": 5,
   "id": "0f82f3e6",
   "metadata": {},
   "outputs": [],
   "source": [
    "# Save scores to series objects\n",
    "\n",
    "    \n",
    "# print(series[0].Score)"
   ]
  },
  {
   "cell_type": "code",
   "execution_count": 6,
   "id": "eda381d6",
   "metadata": {},
   "outputs": [],
   "source": [
    "# Update Series Home and Away Wins\n",
    "    #print(series[0].Score[0])\n",
    "\n",
    "    #HomeWinsArray = (series[0].Score[0]<series[0].Score[1])\n",
    "    #print(sum(HomeWinsArray))\n",
    "\n",
    "    #print('Series 2 score is {}'.format(series[1].Score))\n",
    "    #HomeWinsArray = (series[1].Score[0]<series[1].Score[1])\n",
    "    #AwayWinsArray = (series[1].Score[0]<series[1].Score[1])\n",
    "    #print(sum(HomeWinsArray))\n",
    "    #print(sum(AwayWinsArray))\n",
    "\n",
    "    #series[1].updateWins()\n",
    "\n",
    "    #print(series[1].HomeWins)\n",
    "    #print(series[1].AwayWins)\n",
    "\n",
    "#for i in range(numSeries):\n",
    "#    series[i].updateWins()\n",
    "    \n",
    "#print(series[0].HomeWins)\n",
    "#print(series[0].AwayWins)\n",
    "# print(series[1].HomeWins)\n",
    "# print(series[1].AwayWins)"
   ]
  },
  {
   "cell_type": "code",
   "execution_count": 7,
   "id": "006c5d11",
   "metadata": {},
   "outputs": [],
   "source": [
    "# Check if a series is complete\n",
    "# If so, set bool for isComplete, set Winner string, and eliminate loser\n",
    "\n",
    "# boolHome = series[1].HomeWins == 4\n",
    "# boolAway = series[1].AwayWins == 4\n",
    "# print(boolHome)\n",
    "# print(boolAway)\n",
    "# boolTotal = boolHome or boolAway\n",
    "# print('boolTotal is {}'.format(boolTotal) )\n",
    "# print( ( (series[1].HomeWins == 4) or (series[1].AwayWins == 4) ) )\n",
    "# print('Testing Function inside class {}'.format(series[0].checkIfComplete()) )\n",
    "# print('Testing Function inside class {}'.format(series[1].checkIfComplete()) )\n",
    "\n",
    "# print('Pre Test updateComplete, value {}'.format(series[1].isComplete))\n",
    "# #series[1].updateComplete()\n",
    "# print('Test updateComplete, value {}'.format(series[0].isComplete))\n",
    "# print('Winner of series 1 is {}'.format(series[0].Winner))\n",
    "# print('Loser of series 1 is {}'.format(series[0].Loser))\n",
    "\n",
    "#for i in range(numSeries):\n",
    "#    series[i].updateComplete()\n"
   ]
  },
  {
   "cell_type": "code",
   "execution_count": 8,
   "id": "6978d578",
   "metadata": {},
   "outputs": [],
   "source": [
    "#boolTeam = teams[1].name == series[0].Loser\n",
    "#print(boolTeam)\n",
    "#for i in range(numSeries):\n",
    "#    for j in range(numTeams):\n",
    "#        if series[i].Loser == teams[j].name:\n",
    "#            teams[j].elimFunc()\n",
    "            \n",
    "# for j in range(numTeams):\n",
    "#     if teams[j].isEliminated:\n",
    "#         print('{} has been eliminated'.format(teams[j].name))\n",
    "#     else:\n",
    "#         print('{} is alive'.format(teams[j].name))\n",
    "            "
   ]
  },
  {
   "cell_type": "code",
   "execution_count": 9,
   "id": "f80c277e",
   "metadata": {},
   "outputs": [],
   "source": [
    "# Check if the matchup is set\n",
    "#import numpy as np\n",
    "#print('Series 9 depends on series {} and {}'.format(series[8].SeriesDep[0],series[8].SeriesDep[1]) )\n",
    "#print(series[1].isComplete)\n",
    "#print(series[8].SeriesDep)\n",
    "#print(series[8].SeriesDep[0])\n",
    "#print(series[series[8].SeriesDep[0]].Winner)\n",
    "#print(series[(series[8].SeriesDep[0])-1].isComplete)\n",
    "#print(series[(series[8].SeriesDep[1])-1].isComplete)\n",
    "\n",
    "#boolMatchup = series[(series[8].SeriesDep[0])-1].isComplete and series[(series[8].SeriesDep[1])-1].isComplete\n",
    "#print()\n",
    "#print(boolMatchup)\n",
    "\n",
    "#print('Series 8 Matchup set is: {}'.format(series[7].isMatchupSet))\n",
    "#print('Series 9 Matchup set is: {}'.format(series[8].isMatchupSet))\n",
    "#print('Series 10 Matchup set is: {}'.format(series[9].isMatchupSet))\n",
    "\n",
    "#print()\n",
    "#print(series[10].Score)\n",
    "#print(series[10].Score[0][0])\n",
    "#print(np.isnan(series[10].Score[0][0]))\n",
    "#print(not (np.isnan(series[10].Score[0][0])))\n",
    "#if (not (np.isnan(series[0].Score[0][0]))):\n",
    "#    print('Good')"
   ]
  },
  {
   "cell_type": "code",
   "execution_count": 10,
   "id": "95e25380",
   "metadata": {},
   "outputs": [],
   "source": [
    "## Check if the matchup set worked\n",
    "#print(series[8].HomeTeam)\n",
    "#print(series[14].Winner)"
   ]
  },
  {
   "cell_type": "code",
   "execution_count": 11,
   "id": "61f08eec",
   "metadata": {},
   "outputs": [],
   "source": [
    "## Office Points\n",
    "# print(brackets[0].name)\n",
    "# print(brackets[0].seriesWinners)\n",
    "# print(brackets[0].seriesWinners[0])\n",
    "# print(brackets[0].ChoiceMatrix)\n",
    "# print(brackets[0].ChoiceMatrix[0])\n",
    "\n",
    "# print()\n",
    "# print('Scoring:')\n",
    "# Scoring = [10, 10, 10, 10, 10, 10, 10, 10, 25, 25, 25, 25, 50, 50, 100]\n",
    "# Scoring = np.array(Scoring)\n",
    "# print(Scoring[0])\n",
    "# print(Scoring[8])\n",
    "# print(Scoring[12])\n",
    "# print(Scoring[14])\n",
    "\n",
    "\n",
    "from updatePoints import updatePoints as updatePoints\n",
    "updatePoints(series,teams,brackets)\n",
    "\n",
    "# print()\n",
    "# print('Check points calc is working')\n",
    "# print('Series 1 winner is {}'.format(series[0].Winner))\n",
    "# print('Series 2 winner is {}'.format(series[1].Winner))\n",
    "# print('Series 3 winner is {}'.format(series[2].Winner))\n",
    "# print('Series 9 winner is {}'.format(series[8].Winner))\n",
    "# print('Avalanche are eliminated: {}'.format(teams[0].isEliminated))\n",
    "# for jj in range(numTeams):\n",
    "#     if brackets[6].seriesWinners[0] == teams[jj].name:\n",
    "#         team_idx = jj\n",
    "        \n",
    "# print('The bracket series winner is: {}'.format(brackets[6].seriesWinners[0]))\n",
    "# print('The team index that matches the winner is {}'.format(team_idx))\n",
    "# print('Check if that index team is eliminated. teams[team_idx] = {}'.format(teams[team_idx].isEliminated))\n",
    "\n",
    "# print()\n",
    "# print(brackets[6].name)\n",
    "# print(brackets[6].points_aquired)\n",
    "# print(brackets[6].points_potential)\n",
    "# print(brackets[6].points_totalPossible)\n",
    "# print(brackets[6].ChoiceMatrix)\n",
    "# print()\n",
    "# print(brackets[9].name)\n",
    "# print(brackets[9].points_aquired)\n",
    "# print(brackets[9].points_potential)\n",
    "# print(brackets[9].points_totalPossible)\n",
    "# print(brackets[9].ChoiceMatrix)\n",
    "\n",
    "# print()\n",
    "# print(brackets[0].name)\n",
    "# print(brackets[0].points_aquired)\n",
    "# print(brackets[0].points_potential)\n",
    "# print(brackets[0].points_totalPossible)\n",
    "# print(brackets[0].ChoiceMatrix)\n",
    "# print()\n",
    "# print(brackets[1].name)\n",
    "# print(brackets[1].points_aquired)\n",
    "# print(brackets[1].points_potential)\n",
    "# print(brackets[1].points_totalPossible)\n",
    "# print(brackets[1].ChoiceMatrix)\n",
    "\n",
    "# for i in range(numBrackets):\n",
    "#     print('{} scored {} points and choice matrix {}'.format(brackets[i].name, brackets[i].points_totalPossible, brackets[i].ChoiceMatrix))"
   ]
  },
  {
   "cell_type": "code",
   "execution_count": 12,
   "id": "67e0eaec",
   "metadata": {},
   "outputs": [],
   "source": [
    "## Print Function\n",
    "# Make a function that outputs everything just in a text format\n",
    "\n"
   ]
  },
  {
   "cell_type": "code",
   "execution_count": 13,
   "id": "0cc904c4",
   "metadata": {},
   "outputs": [],
   "source": [
    "## Graphics\n",
    "\n",
    "#for i in range(numSeries):\n",
    "#    print(series[i].XYPos)\n",
    "\n",
    "## These should be 1-time things\n",
    "    # make a grey circle only graphic as practice\n",
    "        # Use this bracket to generate the base bracket once the teams are set\n",
    "    # Use base bracket to generate individual brackets\n",
    "\n",
    "## Updates should be made to the base bracket for the master bracket\n",
    "\n",
    "## Updates should be made to the individual brackets throughout the tourney\n",
    "\n",
    "\n",
    "# from PIL import Image\n",
    "# import numpy as np\n",
    "# Bracket = Image.open(\"TempBrackets\\BracketBase.png\")\n",
    "# #display(Bracket)\n",
    "\n",
    "# Round0_vec = np.array(\n",
    "#     [[200,  200],\n",
    "#      [200,  900],\n",
    "#      [200,  1500],\n",
    "#      [200,  2200],\n",
    "#      [200,  3000],\n",
    "#      [200,  3700],\n",
    "#      [200,  4300],\n",
    "#      [200,  5000],\n",
    "#      [5000, 200],\n",
    "#      [5000, 900],\n",
    "#      [5000, 1500],\n",
    "#      [5000, 2200],\n",
    "#      [5000, 3000],\n",
    "#      [5000, 3700],\n",
    "#      [5000, 4300],\n",
    "#      [5000, 5000]])\n",
    "\n",
    "# print(Round0_vec)\n",
    "# print(type(Round0_vec))\n",
    "# print(Round0_vec.size)\n",
    "# print(Round0_vec.shape)\n",
    "# r,c = Round0_vec.shape\n",
    "# print('Number of rows is {}'.format(r) )\n",
    "# print('Number of columns is {}'.format(c) )\n",
    "# print(Round0_vec[1])\n",
    "# print(Round0_vec[1][1])\n",
    "\n",
    "# # Paste grey circles\n",
    "# Grey = Image.open(\"BracketLogos\\Grey.png\")\n",
    "# Bracket.paste(  Grey,tuple(Round0_vec[0])  )\n",
    "# # Bracket.paste( Grey,(200,200) )\n",
    "\n",
    "# #display(Bracket)\n",
    "\n",
    "# # Loop through all rows to get all grey circles\n",
    "# for i in range(r):\n",
    "#     Bracket.paste(  Grey, tuple(Round0_vec[i]) )\n",
    "\n",
    "# display(Bracket)\n",
    "\n",
    "import greyCircleBracket\n"
   ]
  },
  {
   "cell_type": "code",
   "execution_count": 14,
   "id": "9e2ce731",
   "metadata": {},
   "outputs": [],
   "source": [
    "# ## Generate Base Bracket\n",
    "# from PIL import Image\n",
    "\n",
    "# print(teams[0].name)\n",
    "# print(teams[0].name+\"Circle.png\")\n",
    "# print(len(teams))\n",
    "\n",
    "# str = \"BracketLogos/\"+ teams[1].name + \"Circle.png\"\n",
    "# # str = str + teams[1].name\n",
    "# # str = str + \"Circle.png\"\n",
    "# print(str)\n",
    "\n",
    "# Logo_vec = []\n",
    "# for i in range(numTeams):\n",
    "#     str = \"BracketLogos/\"+ teams[i].name + \"Circle.png\"\n",
    "#     Logo_vec.append( Image.open(str) )\n",
    "    \n",
    "# # len(Logo_vec)\n",
    "# display(Logo_vec[0])\n",
    "# display(Logo_vec[1])\n",
    "\n",
    "#from initializeBaseBracketGraphics import initializeBaseBracketGraphics as initializeBaseBracketGraphics\n",
    "#initializeBaseBracketGraphics(teams)\n"
   ]
  },
  {
   "cell_type": "code",
   "execution_count": 15,
   "id": "bf552f6e",
   "metadata": {},
   "outputs": [
    {
     "name": "stdout",
     "output_type": "stream",
     "text": [
      "Initialization Complete\n"
     ]
    }
   ],
   "source": [
    "from initializeIndividualBracketsGraphics import initializeIndividualBracketsGraphics as initializeIndividualBracketsGraphics\n",
    "initializeIndividualBracketsGraphics(teams,series,brackets)\n",
    "\n",
    "print(\"Initialization Complete\")"
   ]
  },
  {
   "cell_type": "code",
   "execution_count": 16,
   "id": "19614aac",
   "metadata": {},
   "outputs": [
    {
     "name": "stdout",
     "output_type": "stream",
     "text": [
      "0\n",
      "1\n",
      "2\n",
      "3\n",
      "4\n",
      "5\n",
      "6\n",
      "7\n",
      "Master graphic updated\n"
     ]
    }
   ],
   "source": [
    "# Update Master Bracket\n",
    "from updateMasterGraphic import updateMasterGraphic as updateMasterGraphic\n",
    "updateMasterGraphic(series)\n",
    "\n",
    "print(\"Master graphic updated\")\n"
   ]
  },
  {
   "cell_type": "code",
   "execution_count": 17,
   "id": "cefa2e68",
   "metadata": {},
   "outputs": [
    {
     "name": "stdout",
     "output_type": "stream",
     "text": [
      "Individual brackets updated\n"
     ]
    }
   ],
   "source": [
    "# Update Individual bracket\n",
    "from updateIndividualBracketsGraphics import updateIndividualBracketsGraphics as updateIndividualBracketsGraphics\n",
    "updateIndividualBracketsGraphics(series,brackets)\n",
    "\n",
    "print(\"Individual brackets updated\")"
   ]
  },
  {
   "cell_type": "code",
   "execution_count": 18,
   "id": "80b1b09f",
   "metadata": {},
   "outputs": [
    {
     "name": "stdout",
     "output_type": "stream",
     "text": [
      "hi\n",
      "(800, 550)\n",
      "(750, 500)\n"
     ]
    }
   ],
   "source": [
    "print(\"hi\")\n",
    "\n",
    "print(tuple(series[0].XYPos))\n",
    "print(tuple(series[0].XYPos -50 ))"
   ]
  },
  {
   "cell_type": "code",
   "execution_count": 19,
   "id": "961c8d51",
   "metadata": {},
   "outputs": [],
   "source": [
    "# I should make a flag class\n",
    "# change .name in brackets to be fname and lname (maybe)\n",
    "# maybe make a constants class for things like Round 0 and numSeries"
   ]
  }
 ],
 "metadata": {
  "kernelspec": {
   "display_name": "Python 3 (ipykernel)",
   "language": "python",
   "name": "python3"
  },
  "language_info": {
   "codemirror_mode": {
    "name": "ipython",
    "version": 3
   },
   "file_extension": ".py",
   "mimetype": "text/x-python",
   "name": "python",
   "nbconvert_exporter": "python",
   "pygments_lexer": "ipython3",
   "version": "3.10.6"
  }
 },
 "nbformat": 4,
 "nbformat_minor": 5
}
