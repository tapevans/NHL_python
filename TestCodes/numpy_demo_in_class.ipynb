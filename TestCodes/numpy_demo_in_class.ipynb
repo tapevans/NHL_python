{
 "cells": [
  {
   "cell_type": "markdown",
   "metadata": {},
   "source": [
    "# Numpy demo session\n",
    "\n",
    "\n",
    "- Creating arrays: zeros, ones, full, empty, arange, linspace\n",
    "- Multiplying lists versus multiplying arrays\n",
    "- Matrix multiplying\n",
    "- Transposing\n",
    "- Reshaping\n",
    "- Slicing\n",
    "- Broadcasting\n",
    "- Adding dimensions (expand_dims, None)\n",
    "- Concatenating versus stacking\n",
    "- Computing operations along an axis (e.g., mean)\n",
    " - keepdims=True, keepdims=False\n",
    "- logical_and, logical_or, etc.\n",
    "- Getting indices (np.where)\n",
    " - conditional replacement\n",
    "- Indexing with Boolean matrices\n",
    "- See if two arrays are equal"
   ]
  },
  {
   "cell_type": "code",
   "execution_count": 1,
   "metadata": {},
   "outputs": [],
   "source": [
    "import numpy as np"
   ]
  },
  {
   "cell_type": "code",
   "execution_count": 2,
   "metadata": {},
   "outputs": [
    {
     "name": "stdout",
     "output_type": "stream",
     "text": [
      "[[1 1 1]\n",
      " [1 1 1]\n",
      " [1 1 1]]\n",
      "\n",
      "[[0 0 0]\n",
      " [0 0 0]\n",
      " [0 0 0]]\n",
      "\n",
      "[[1 1 1]\n",
      " [1 1 1]\n",
      " [1 1 1]]\n",
      "\n",
      "[[14 14 14]\n",
      " [14 14 14]\n",
      " [14 14 14]]\n"
     ]
    }
   ],
   "source": [
    "# Create numpy arrays\n",
    "\n",
    "x = np.ones((3, 3), dtype=int)\n",
    "print(x)\n",
    "print('')\n",
    "\n",
    "x = np.zeros((3, 3), dtype=int)\n",
    "print(x)\n",
    "print('')\n",
    "\n",
    "x = np.empty((3, 3), dtype=int)\n",
    "print(x)\n",
    "print('')\n",
    "\n",
    "fill_value = 14\n",
    "x = np.full((3, 3),fill_value, dtype=int)\n",
    "print(x)"
   ]
  },
  {
   "cell_type": "code",
   "execution_count": 3,
   "metadata": {},
   "outputs": [
    {
     "name": "stdout",
     "output_type": "stream",
     "text": [
      "<class 'range'>\n",
      "range(0, 10)\n",
      "0\n",
      "1\n",
      "2\n",
      "3\n",
      "4\n",
      "5\n",
      "6\n",
      "7\n",
      "8\n",
      "9\n",
      "\n",
      "[10 30 50 70 90]\n",
      "\n",
      "[  0.  25.  50.  75. 100.]\n",
      "\n"
     ]
    }
   ],
   "source": [
    "# Create an array of sequential values.\n",
    "\n",
    "# The python \"range\" does not return a set of values.\n",
    "# It is an object that returns one value at a time\n",
    "# when \"called\", e.g., in a for loop.\n",
    "r = range(10)\n",
    "print(type(r))\n",
    "print(r)\n",
    "for rr in r:\n",
    "    print(rr)\n",
    "print('')\n",
    "\n",
    "# Versus numpy arange, linspace, and logspace, which\n",
    "# immediately create a set (array) of values when called.\n",
    "\n",
    "# Use arange. You can define the step size, or let it default to 0.\n",
    "first = 10\n",
    "most = 100\n",
    "step_size = 20\n",
    "arng = np.arange(first, most, step_size)\n",
    "print(arng)\n",
    "print('')\n",
    "\n",
    "# Use linspace. Don't give step size. Tell it how many evenly-spaced\n",
    "# points you want, instead.\n",
    "first = 0\n",
    "last = 100\n",
    "how_many = 5\n",
    "linspc = np.linspace(first, last, how_many)\n",
    "print(linspc)\n",
    "print('')"
   ]
  },
  {
   "cell_type": "code",
   "execution_count": 4,
   "metadata": {},
   "outputs": [
    {
     "name": "stdout",
     "output_type": "stream",
     "text": [
      "[1, 2, 3, 1, 2, 3, 1, 2, 3]\n",
      "\n",
      "[3 6 9]\n",
      "\n",
      "[1, 2, 3, 4, 5, 6]\n",
      "\n",
      "[5 7 9]\n"
     ]
    }
   ],
   "source": [
    "# Multiplying, addition, ...\n",
    "\n",
    "\n",
    "# Multiplying, a list. It \"repeats\" the list\n",
    "x = [1, 2, 3]\n",
    "print(3 * x)\n",
    "print('')\n",
    "\n",
    "# Multiplying, a numpy array by a scalar.\n",
    "# Each element in the array is multiplied by that scalar.\n",
    "x = np.array(x)\n",
    "print(3 * x)\n",
    "print('')\n",
    "\n",
    "# Addition, a list. The lists are concatenated.\n",
    "x = [1,2,3]\n",
    "y = [4,5,6]\n",
    "print(x + y)\n",
    "print('')\n",
    "\n",
    "# Addition of numpy arrays, of equal shape.\n",
    "# Elementwise-addition. Elements at the same location\n",
    "# in x and y are added.\n",
    "x = np.array(x)\n",
    "y = np.array(y)\n",
    "print(x + y)"
   ]
  },
  {
   "cell_type": "code",
   "execution_count": 5,
   "metadata": {},
   "outputs": [
    {
     "name": "stdout",
     "output_type": "stream",
     "text": [
      "[[4 1 3]\n",
      " [4 0 2]\n",
      " [3 2 4]]\n",
      "\n",
      "[[2 1 3]\n",
      " [2 1 1]\n",
      " [2 2 2]]\n",
      "\n",
      "[[8 1 9]\n",
      " [8 0 2]\n",
      " [6 4 8]]\n",
      "\n",
      "[[16 11 19]\n",
      " [12  8 16]\n",
      " [18 13 19]]\n"
     ]
    }
   ],
   "source": [
    "# Element-wise versus Matrix multiplication\n",
    "\n",
    "x = np.random.randint(0, 5, size=(3, 3), dtype=int)\n",
    "y = np.random.randint(0, 5, size=(3, 3), dtype=int)\n",
    "\n",
    "print(x)\n",
    "print('')\n",
    "print(y)\n",
    "print('')\n",
    "\n",
    "print(x * y)  # Element-wise. x and y must have the same shape\n",
    "print('')\n",
    "print(x @ y)  # Matrix multiply. Shapes must allow it: x.shape=(m, n), y.shape=(n, p)"
   ]
  },
  {
   "cell_type": "code",
   "execution_count": 6,
   "metadata": {},
   "outputs": [
    {
     "name": "stdout",
     "output_type": "stream",
     "text": [
      "(3,)\n",
      "\n",
      "(3, 1)\n"
     ]
    }
   ],
   "source": [
    "# Matrix multiplication\n",
    "\n",
    "# For matrix times vector, the vector\n",
    "# can be shape (n,) or (n,1)...\n",
    "x = np.ones((3,3))\n",
    "y = np.ones((3,))\n",
    "\n",
    "print((x @ y).shape)\n",
    "print('')\n",
    "\n",
    "# or can be shape (n,1)...\n",
    "y = np.ones((3,1))\n",
    "\n",
    "print((x @ y).shape)"
   ]
  },
  {
   "cell_type": "code",
   "execution_count": 7,
   "metadata": {},
   "outputs": [
    {
     "name": "stdout",
     "output_type": "stream",
     "text": [
      "(2, 3, 4)\n",
      "\n",
      "(4, 2, 3)\n"
     ]
    }
   ],
   "source": [
    "## Transposing -- swapping dimensions\n",
    "\n",
    "x = np.zeros((2,3,4))\n",
    "print(x.shape)\n",
    "print('')\n",
    "\n",
    "y = np.transpose(x, (2, 0, 1))\n",
    "print(y.shape)"
   ]
  },
  {
   "cell_type": "code",
   "execution_count": 8,
   "metadata": {},
   "outputs": [
    {
     "name": "stdout",
     "output_type": "stream",
     "text": [
      "(2, 3, 4)\n",
      "(6, 4)\n",
      "(2, 12)\n",
      "(2, 12)\n"
     ]
    }
   ],
   "source": [
    "## Reshaping. E.g., flattening two of three dimensions...\n",
    "\n",
    "x = np.zeros((2,3,4))\n",
    "print(x.shape)\n",
    "\n",
    "y = np.reshape(x, (2*3, 4))\n",
    "print(y.shape)\n",
    "\n",
    "y = np.reshape(x, (2, 3*4))\n",
    "print(y.shape)\n",
    "\n",
    "y = np.reshape(x, (2, -1))\n",
    "print(y.shape)"
   ]
  },
  {
   "cell_type": "code",
   "execution_count": 9,
   "metadata": {},
   "outputs": [
    {
     "name": "stdout",
     "output_type": "stream",
     "text": [
      "[[5 1 6 4 8 7]\n",
      " [6 8 5 9 4 9]\n",
      " [3 4 9 8 5 5]\n",
      " [6 2 6 3 8 6]\n",
      " [8 4 6 7 0 7]]\n",
      "\n",
      "[[9 8 5]\n",
      " [6 3 8]]\n",
      "\n",
      "[[8 7]\n",
      " [4 9]\n",
      " [5 5]]\n",
      "\n",
      "\n",
      "Had an error...\n",
      "\n",
      "list indices must be integers or slices, not tuple\n"
     ]
    }
   ],
   "source": [
    "## Slicing - Extracting subarrays from the full array\n",
    "# Syntax for each dimension is... first:last, where\n",
    "# the \"last\" is exclusive, e.g., 3:7 will get values\n",
    "# at indices 3, 4, 5, and 6.\n",
    "\n",
    "x = np.random.randint(0, 10, size=(5, 6), dtype=int)\n",
    "print(x)\n",
    "print('')\n",
    "\n",
    "y = x[2:4, 2:5]  # row indices 2, 3, and columns indices 2, 3, 4.\n",
    "print(y)\n",
    "print('')\n",
    "\n",
    "# If \"first\" is not included, it implies first is 0.\n",
    "# If \"first\" is not included, it implies last is length of that dimension.\n",
    "\n",
    "y = x[:3, 4:]   # row indices 0, 1, 2, and columns indices 4 and 5\n",
    "print(y)\n",
    "print('')\n",
    "\n",
    "\n",
    "# You can't slice lists...\n",
    "try:\n",
    "    x_list = list(x)\n",
    "    y_list = x_list[1:, 1:3]\n",
    "except Exception as e:\n",
    "    print('\\nHad an error...\\n')\n",
    "    print(e)"
   ]
  },
  {
   "cell_type": "code",
   "execution_count": 10,
   "metadata": {},
   "outputs": [
    {
     "name": "stdout",
     "output_type": "stream",
     "text": [
      "[[3 2 4]\n",
      " [5 5 7]\n",
      " [7 8 8]\n",
      " [7 0 8]]\n",
      "\n",
      "[[2]\n",
      " [2]\n",
      " [6]\n",
      " [3]]\n",
      "\n",
      "[[2 2 2]\n",
      " [2 2 2]\n",
      " [6 6 6]\n",
      " [3 3 3]]\n",
      "\n",
      "[[ 6  4  8]\n",
      " [10 10 14]\n",
      " [42 48 48]\n",
      " [21  0 24]]\n",
      "\n",
      "[[ 6  4  8]\n",
      " [10 10 14]\n",
      " [42 48 48]\n",
      " [21  0 24]]\n",
      "\n",
      "Had an error...\n",
      "\n",
      "operands could not be broadcast together with shapes (4,3) (4,) \n"
     ]
    }
   ],
   "source": [
    "# Broadcasting...\n",
    "\n",
    "x = np.random.randint(0, 10, size=(4, 3), dtype=int)\n",
    "y = np.random.randint(0, 10, size=(4, 1), dtype=int)\n",
    "\n",
    "print(x)\n",
    "print('')\n",
    "print(y)\n",
    "print('')\n",
    "\n",
    "# GOAL: Multiply each column of x by y\n",
    "\n",
    "# Without broadcasting, we'd have to repeat y three times\n",
    "# to get a new array of size equal to x, then do the\n",
    "# multiply\n",
    "y_rep = np.repeat(y, 3, axis=1)  # Note that we tell it which axis to repeat along\n",
    "print(y_rep)\n",
    "print('')\n",
    "\n",
    "print(x * y_rep)\n",
    "print('')\n",
    "\n",
    "# But numpy uses broadcasting--that is, it determines which dimensions of\n",
    "# length one is should repeat. You don't need to do it explicitly.\n",
    "print(x*y)\n",
    "\n",
    "# An array cannot be broadcast along a dimension it does not have.\n",
    "# E.g., (4,) cannot be broadcast along the second dimension, because that\n",
    "# dimension doesn't exist. An array of (4, 1) can be broadcast along\n",
    "# the second dimension (as it was above).\n",
    "try:\n",
    "    x = np.random.randint(0, 10, size=(4, 3), dtype=int)\n",
    "    y = np.random.randint(0, 10, size=(4,), dtype=int)\n",
    "    z = x * y\n",
    "except Exception as e:\n",
    "    print('\\nHad an error...\\n')\n",
    "    print(e)"
   ]
  },
  {
   "cell_type": "code",
   "execution_count": 11,
   "metadata": {},
   "outputs": [
    {
     "name": "stdout",
     "output_type": "stream",
     "text": [
      "[6 4 7 3]\n",
      "(4,)\n",
      "\n",
      "(4, 1)\n",
      "\n",
      "(4, 1)\n",
      "\n",
      "(1, 4)\n",
      "\n"
     ]
    }
   ],
   "source": [
    "# Expanding dimensions...\n",
    "\n",
    "# In the above example, numpy could not broadcast\n",
    "# the (4,) array when we tried to mulitply it by the (4, 3) array.\n",
    "# To fix that, we'd need to expand the dimensionality\n",
    "# from 1 (shape (4,)) to 2 (shape(4, 1)).\n",
    "\n",
    "# Here are two ways to do so...\n",
    "\n",
    "x = np.random.randint(0, 10, size=(4,), dtype=int)\n",
    "print(x)\n",
    "print(x.shape)\n",
    "print('')\n",
    "\n",
    "x_expand = np.expand_dims(x, 1)\n",
    "print(x_expand.shape)\n",
    "print('')\n",
    "\n",
    "x_expand = x[:, None]\n",
    "print(x_expand.shape)\n",
    "print('')\n",
    "\n",
    "# We can expand into \"earlier\" rather than \"later\" dimensions...\n",
    "x_expand = np.expand_dims(x, 0)\n",
    "print(x_expand.shape)\n",
    "print('')"
   ]
  },
  {
   "cell_type": "code",
   "execution_count": 12,
   "metadata": {},
   "outputs": [
    {
     "name": "stdout",
     "output_type": "stream",
     "text": [
      "[[5 4 9 2 1 3 1 8]\n",
      " [9 0 7 8 5 6 6 1]\n",
      " [9 8 6 5 2 4 5 0]]\n",
      "\n",
      "(3, 4, 2)\n",
      "\n",
      "[[[5 1]\n",
      "  [4 3]\n",
      "  [9 1]\n",
      "  [2 8]]\n",
      "\n",
      " [[9 5]\n",
      "  [0 6]\n",
      "  [7 6]\n",
      "  [8 1]]\n",
      "\n",
      " [[9 2]\n",
      "  [8 4]\n",
      "  [6 5]\n",
      "  [5 0]]]\n",
      "\n"
     ]
    }
   ],
   "source": [
    "# Concatenate, stack...\n",
    "# How can we join two (or more) arrays?\n",
    "\n",
    "x = np.random.randint(0, 10, size=(3, 4), dtype=int)\n",
    "y = np.random.randint(0, 10, size=(3, 4), dtype=int)\n",
    "\n",
    "## Concatenate: no new dimensions...\n",
    "z = np.concatenate((x, y), axis=1)\n",
    "print(z)\n",
    "print('')\n",
    "\n",
    "## Concatenate: create new dimensions...\n",
    "z = np.stack((x, y), axis=2)\n",
    "print(z.shape)\n",
    "print('')\n",
    "print(z)\n",
    "print('')"
   ]
  },
  {
   "cell_type": "code",
   "execution_count": 13,
   "metadata": {},
   "outputs": [
    {
     "name": "stdout",
     "output_type": "stream",
     "text": [
      "[[5 0 3 3]\n",
      " [7 9 3 5]\n",
      " [2 4 7 6]]\n",
      "\n",
      "54\n",
      "\n",
      "[14 13 13 14]\n",
      "\n",
      "[11 24 19]\n",
      "(2, 4, 3)\n",
      "\n",
      "(3,)\n"
     ]
    }
   ],
   "source": [
    "## Axis specification, for operators\n",
    "\n",
    "# For operations that take in a vector and output a scalar, we\n",
    "# can specify which axis the matrix takes place along...\n",
    "\n",
    "np.random.seed(0)\n",
    "\n",
    "x = np.random.randint(0, 10, size=(3, 4), dtype=int)\n",
    "print(x)\n",
    "print('')\n",
    "\n",
    "# sum all\n",
    "print(np.sum(x))\n",
    "print('')\n",
    "\n",
    "# sum rows\n",
    "print(np.sum(x, axis=0))\n",
    "print('')\n",
    "\n",
    "# sum columns\n",
    "print(np.sum(x, axis=1))\n",
    "\n",
    "\n",
    "# We can specify multiple axes as well. E.g., for a 3-D\n",
    "# array, sum over the rows and columns, for each 2-D array\n",
    "# contained along the third dimension.\n",
    "x = np.random.randint(0, 10, size=(2, 4, 3), dtype=int)\n",
    "print(x.shape)\n",
    "print('')\n",
    "\n",
    "s = np.sum(x, axis=(0, 1))  # sum over height and width, but not depth\n",
    "print(s.shape)"
   ]
  },
  {
   "cell_type": "code",
   "execution_count": 14,
   "metadata": {},
   "outputs": [
    {
     "name": "stdout",
     "output_type": "stream",
     "text": [
      "[[3 7 0 1]\n",
      " [9 9 0 4]\n",
      " [7 3 2 7]]\n",
      "\n",
      "(4,)\n",
      "\n",
      "(1, 4)\n",
      "\n"
     ]
    }
   ],
   "source": [
    "## Keeping dimensions after operating along an axis (or multiple axes)\n",
    "\n",
    "x = np.random.randint(0, 10, size=(3, 4), dtype=int)\n",
    "print(x)\n",
    "print('')\n",
    "\n",
    "# Don't keep\n",
    "s = np.sum(x, axis=0)  # keepdims=False is the default\n",
    "print(s.shape)\n",
    "print('')\n",
    "\n",
    "# Don't keep\n",
    "s = np.sum(x, axis=0, keepdims=True)\n",
    "print(s.shape)\n",
    "print('')"
   ]
  },
  {
   "cell_type": "code",
   "execution_count": 15,
   "metadata": {},
   "outputs": [
    {
     "name": "stdout",
     "output_type": "stream",
     "text": [
      "[0 3 1 0 2 3 2]\n",
      "\n",
      "[3 0 3 2 1 3 3]\n",
      "\n",
      "[False False False False  True False  True]\n",
      "\n",
      "[ True False  True False False  True  True]\n",
      "\n",
      "[False False False False False False  True]\n"
     ]
    }
   ],
   "source": [
    "# Boolean arrays\n",
    "\n",
    "np.random.seed(2)\n",
    "\n",
    "x = np.random.randint(0, 4, size=(7,), dtype=int)\n",
    "y = np.random.randint(0, 4, size=(7,), dtype=int)\n",
    "print(x)\n",
    "print('')\n",
    "print(y)\n",
    "print('')\n",
    "\n",
    "xis2 = x==2\n",
    "print(xis2)\n",
    "print('')\n",
    "\n",
    "yis3 = y==3\n",
    "print(yis3)\n",
    "print('')\n",
    "\n",
    "both_true = np.logical_and(xis2, yis3)\n",
    "print(both_true)"
   ]
  },
  {
   "cell_type": "code",
   "execution_count": 16,
   "metadata": {},
   "outputs": [
    {
     "name": "stdout",
     "output_type": "stream",
     "text": [
      "(array([6]),)\n",
      "\n",
      "[6]\n",
      "\n",
      "[0 1 0 1 1 2 0]\n",
      "\n",
      "[3 2 2 2 2 2 3]\n",
      "\n",
      "[3 1 0 2 1 2 0]\n"
     ]
    }
   ],
   "source": [
    "# Where (at which indices) is both_true a True??\n",
    "# Use np.where...\n",
    "\n",
    "# Notice that the result is a tuple of length 1, containing an array of indices\n",
    "print(np.where(both_true))\n",
    "print('')\n",
    "\n",
    "# You often will want to extract that array of indices from the tuple\n",
    "print(np.where(both_true)[0])\n",
    "print('')\n",
    "\n",
    "# If the input boolean array were 2D rather than 1D, the tuple\n",
    "# from np.where would have had two numpy arrays, one for each dimension.\n",
    "\n",
    "\n",
    "# We can also use np.where for conditional replacement...\n",
    "np.random.seed(0)\n",
    "X = np.random.choice((0, 1, 2), size=(7,))\n",
    "Y = np.random.choice((2, 3), size=(7,))\n",
    "print(X)\n",
    "print('')\n",
    "print(Y)\n",
    "print('')\n",
    "\n",
    "# Get Z, where element z has value of element y if the element x value is 0,\n",
    "# else the value of element x.\n",
    "Z = np.where(x==0, Y, X)\n",
    "print(Z)"
   ]
  },
  {
   "cell_type": "code",
   "execution_count": 17,
   "metadata": {},
   "outputs": [
    {
     "name": "stdout",
     "output_type": "stream",
     "text": [
      "[6 7 7 8 1 5 9 8 9 4]\n",
      "\n",
      "[3 0 3 5 0 2 3 8 1 3]\n",
      "\n",
      "[3 0 3 5 3 8 1]\n"
     ]
    }
   ],
   "source": [
    "# Indexing with Boolean matrices\n",
    "\n",
    "# If you don't need/want the indices of where the True values\n",
    "# are, but rather just the values of some array at those\n",
    "# indices/locations, you can use the Boolean array directly\n",
    "# for the indexing...\n",
    "\n",
    "# Get all values of array y, at locations where values of\n",
    "# x are > 5...\n",
    "\n",
    "x = np.random.randint(10, size=(10,), dtype=int)\n",
    "y = np.random.randint(10, size=(10,), dtype=int)\n",
    "print(x)\n",
    "print('')\n",
    "print(y)\n",
    "print('')\n",
    "\n",
    "z = y[x>5]\n",
    "print(z)"
   ]
  },
  {
   "cell_type": "code",
   "execution_count": 18,
   "metadata": {},
   "outputs": [
    {
     "name": "stdout",
     "output_type": "stream",
     "text": [
      "[[ True  True  True  True]\n",
      " [ True  True  True  True]\n",
      " [ True  True  True  True]]\n",
      "\n",
      "True\n",
      "\n",
      "True\n"
     ]
    }
   ],
   "source": [
    "# Are two arrays equal (all elements equal)?\n",
    "\n",
    "x = np.random.randint(0, 10, size=(3, 4), dtype=int)\n",
    "y = x.copy()\n",
    "\n",
    "print(x==y)\n",
    "print('')\n",
    "\n",
    "# One approach\n",
    "print(np.all(x==y))\n",
    "print('')\n",
    "\n",
    "# Second approach\n",
    "print(np.array_equal(x, y))"
   ]
  }
 ],
 "metadata": {
  "kernelspec": {
   "display_name": "Python 3 (ipykernel)",
   "language": "python",
   "name": "python3"
  },
  "language_info": {
   "codemirror_mode": {
    "name": "ipython",
    "version": 3
   },
   "file_extension": ".py",
   "mimetype": "text/x-python",
   "name": "python",
   "nbconvert_exporter": "python",
   "pygments_lexer": "ipython3",
   "version": "3.10.6"
  }
 },
 "nbformat": 4,
 "nbformat_minor": 2
}
