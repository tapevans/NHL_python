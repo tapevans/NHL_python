{
 "cells": [
  {
   "cell_type": "code",
   "execution_count": 1,
   "id": "f8abde17",
   "metadata": {},
   "outputs": [
    {
     "name": "stdout",
     "output_type": "stream",
     "text": [
      "1\n",
      "\n",
      "False\n",
      "\n",
      "1\n",
      "Avalanche\n",
      "False\n",
      "\n",
      "1\n",
      "Avalanche\n",
      "True\n",
      "\n"
     ]
    }
   ],
   "source": [
    "import numpy as np\n",
    "from classes import *\n",
    "import test_Edit_Series_header\n",
    "\n",
    "# Create Object\n",
    "series1 = Series(1)\n",
    "\n",
    "print(series1.number)\n",
    "print(series1.HomeTeam)\n",
    "print(series1.isComplete)\n",
    "print()\n",
    "\n",
    "# Series 1\n",
    "series1.HomeTeam = 'Avalanche'\n",
    "series1.AwayTeam = 'Predators'\n",
    "series1.HomePreviousSeries = 1\n",
    "series1.AwayPreviousSeries = 2\n",
    "\n",
    "print(series1.number)\n",
    "print(series1.HomeTeam)\n",
    "print(series1.isComplete)\n",
    "print()\n",
    "\n",
    "# Test Function\n",
    "test_Edit_Series_header.test_Edit_Series(series1)\n",
    "\n",
    "print(series1.number)\n",
    "print(series1.HomeTeam)\n",
    "print(series1.isComplete)\n",
    "print()"
   ]
  },
  {
   "cell_type": "code",
   "execution_count": 2,
   "id": "42ca10e0",
   "metadata": {},
   "outputs": [
    {
     "name": "stdout",
     "output_type": "stream",
     "text": [
      "False\n",
      "\n",
      "True\n",
      "\n"
     ]
    }
   ],
   "source": [
    "from test_Edit_Series_header import test_Edit_Series\n",
    "series1.isComplete = False\n",
    "print(series1.isComplete)\n",
    "print()\n",
    "\n",
    "test_Edit_Series(series1)\n",
    "print(series1.isComplete)\n",
    "print()"
   ]
  },
  {
   "cell_type": "code",
   "execution_count": 3,
   "id": "e57e4f83",
   "metadata": {},
   "outputs": [
    {
     "name": "stdout",
     "output_type": "stream",
     "text": [
      "False\n",
      "\n",
      "True\n",
      "\n"
     ]
    }
   ],
   "source": [
    "from test_Edit_Series_header import test_Edit_Series as myfun\n",
    "series1.isComplete = False\n",
    "print(series1.isComplete)\n",
    "print()\n",
    "\n",
    "myfun(series1)\n",
    "print(series1.isComplete)\n",
    "print()"
   ]
  },
  {
   "cell_type": "code",
   "execution_count": 4,
   "id": "1481304c",
   "metadata": {},
   "outputs": [
    {
     "name": "stdout",
     "output_type": "stream",
     "text": [
      "False\n",
      "\n",
      "True\n",
      "False\n",
      "\n"
     ]
    }
   ],
   "source": [
    "series = []\n",
    "series.append(Series(1))\n",
    "series.append(Series(2))\n",
    "\n",
    "series[0].isComplete = False\n",
    "print(series[0].isComplete)\n",
    "print()\n",
    "\n",
    "myfun(series[0])\n",
    "print(series[0].isComplete)\n",
    "print(series[1].isComplete)\n",
    "print()"
   ]
  },
  {
   "cell_type": "code",
   "execution_count": 5,
   "id": "872f2cd8",
   "metadata": {},
   "outputs": [
    {
     "ename": "NameError",
     "evalue": "name 'myArrayCode' is not defined",
     "output_type": "error",
     "traceback": [
      "\u001b[1;31m---------------------------------------------------------------------------\u001b[0m",
      "\u001b[1;31mNameError\u001b[0m                                 Traceback (most recent call last)",
      "Cell \u001b[1;32mIn [5], line 2\u001b[0m\n\u001b[0;32m      1\u001b[0m \u001b[38;5;66;03m# Test just running a piece of code\u001b[39;00m\n\u001b[1;32m----> 2\u001b[0m \u001b[43mmyArrayCode\u001b[49m\n\u001b[0;32m      4\u001b[0m \u001b[38;5;28mprint\u001b[39m(myArray)\n",
      "\u001b[1;31mNameError\u001b[0m: name 'myArrayCode' is not defined"
     ]
    }
   ],
   "source": [
    "# Test just running a piece of code\n",
    "import myArrayCode\n",
    "#myArrayCode\n",
    "\n",
    "print(myArray)"
   ]
  },
  {
   "cell_type": "code",
   "execution_count": null,
   "id": "6ecd34ec",
   "metadata": {},
   "outputs": [],
   "source": []
  }
 ],
 "metadata": {
  "kernelspec": {
   "display_name": "Python 3 (ipykernel)",
   "language": "python",
   "name": "python3"
  },
  "language_info": {
   "codemirror_mode": {
    "name": "ipython",
    "version": 3
   },
   "file_extension": ".py",
   "mimetype": "text/x-python",
   "name": "python",
   "nbconvert_exporter": "python",
   "pygments_lexer": "ipython3",
   "version": "3.10.6"
  }
 },
 "nbformat": 4,
 "nbformat_minor": 5
}
